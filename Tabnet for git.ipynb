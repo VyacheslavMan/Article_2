{
 "cells": [
  {
   "cell_type": "code",
   "execution_count": null,
   "id": "7386a1c1",
   "metadata": {},
   "outputs": [],
   "source": [
    "import pandas as pd\n",
    "import numpy as np\n",
    "import tensorflow as tf\n",
    "import matplotlib.pyplot as plt\n",
    "from tensorflow.keras import layers\n",
    "from pandas import ExcelWriter\n",
    "\n",
    "import math\n",
    "import seaborn as sns\n",
    "import matplotlib.pyplot as plt\n",
    "from matplotlib.pyplot import figure\n",
    "from sklearn.metrics import f1_score, accuracy_score\n",
    "import os\n",
    "\n",
    "\n",
    "\n",
    "# !pip install pytorch-tabnet\n",
    "import pandas as pd\n",
    "import numpy  as np\n",
    "from pytorch_tabnet.tab_model import TabNetRegressor\n",
    "from sklearn.model_selection import KFold\n",
    "\n",
    "os.chdir(\"C:/Users/VIP13/Статья 2/Котировки 6\")"
   ]
  },
  {
   "cell_type": "code",
   "execution_count": null,
   "id": "dfcfc102",
   "metadata": {},
   "outputs": [],
   "source": [
    "frame_3=pd.read_csv('all_snp_btc_rv_rr.csv', delimiter=';')\n",
    "frame=frame_3.iloc[:,1:].copy() #на входе подаются квадраты волатильностей, поэтому сначала из них берем корни, а потом логарифмируем\n",
    "frame=frame.loc[:, [c for c in frame.columns if (frame[c]>0).all()]]\n",
    "frame=np.log(np.sqrt(frame))\n",
    "ind=[i for i in range(0,len(frame))]\n",
    "frame.index=ind\n",
    "frame.head()\n",
    "data=frame['rv_shk_snp']\n",
    "# data=frame['rv_shk_btc']"
   ]
  },
  {
   "cell_type": "code",
   "execution_count": null,
   "id": "4caa4105",
   "metadata": {},
   "outputs": [],
   "source": [
    "def split_sequence(sequence, look_back, forecast_horizon):\n",
    " X, y = list(), list()\n",
    " for i in range(len(sequence)): \n",
    "   lag_end = i + look_back\n",
    "   forecast_end = lag_end + forecast_horizon\n",
    "   if forecast_end > len(sequence):\n",
    "     break\n",
    "   seq_x, seq_y = sequence[i:lag_end], sequence[lag_end:forecast_end]\n",
    "   X.append(seq_x)\n",
    "   y.append(seq_y)\n",
    " return np.array(X), np.array(y)"
   ]
  },
  {
   "cell_type": "code",
   "execution_count": null,
   "id": "be66a89f",
   "metadata": {},
   "outputs": [],
   "source": [
    "from pytorch_tabnet.augmentations import RegressionSMOTE\n",
    "aug = RegressionSMOTE(p=0.2)\n",
    "prog=[]\n",
    "orig=[]\n",
    "\n",
    "\n",
    "step_smooth=5\n",
    "len_wind=399\n",
    "iteratation_5=int((len(data)-len_wind)/step_smooth)+1\n",
    "\n",
    "\n",
    "for i in range(0,iteratation_5):\n",
    "    \n",
    "    train=data.iloc[0+step_smooth*i:len_wind+step_smooth*i]\n",
    "    test=data.iloc[0+step_smooth*i:len_wind+1+step_smooth*i]\n",
    "    \n",
    "    x_train, y_train=split_sequence(train,5,1)\n",
    "    x_test, y_test=split_sequence(test,5,1)\n",
    "    \n",
    "    regressor = TabNetRegressor(verbose=0,seed=7,  scheduler_params={\"step_size\":10, # how to use learning rate scheduler\n",
    "                                         \"gamma\":0.9})\n",
    "    regressor.fit(X_train=x_train, y_train=y_train,\n",
    "#                   eval_set=y_train,\n",
    "                  patience=10, max_epochs=200,\n",
    "                  eval_metric=['mae'],\n",
    "                 batch_size=16, virtual_batch_size=16,\n",
    "    num_workers=0,\n",
    "    drop_last=False,\n",
    "                 )\n",
    "    prog.append(regressor.predict(x_test)[-1][0])\n",
    "    orig.append(y_test[-1][0])\n",
    "    print(i)"
   ]
  },
  {
   "cell_type": "code",
   "execution_count": null,
   "id": "af3d7aaf",
   "metadata": {},
   "outputs": [],
   "source": [
    "print((abs(np.exp(orig)-np.exp(prog))/np.exp(orig)).mean())\n"
   ]
  }
 ],
 "metadata": {
  "kernelspec": {
   "display_name": "Python 3 (ipykernel)",
   "language": "python",
   "name": "python3"
  },
  "language_info": {
   "codemirror_mode": {
    "name": "ipython",
    "version": 3
   },
   "file_extension": ".py",
   "mimetype": "text/x-python",
   "name": "python",
   "nbconvert_exporter": "python",
   "pygments_lexer": "ipython3",
   "version": "3.9.7"
  }
 },
 "nbformat": 4,
 "nbformat_minor": 5
}
